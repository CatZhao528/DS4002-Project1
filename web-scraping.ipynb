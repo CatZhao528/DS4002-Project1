{
 "cells": [
  {
   "cell_type": "code",
   "execution_count": 34,
   "metadata": {},
   "outputs": [],
   "source": [
    "from bs4 import BeautifulSoup\n",
    "import requests\n",
    "import pandas as pd"
   ]
  },
  {
   "cell_type": "markdown",
   "metadata": {},
   "source": [
    "### tesing part of the code"
   ]
  },
  {
   "cell_type": "code",
   "execution_count": 41,
   "metadata": {},
   "outputs": [],
   "source": [
    "html_test=\"https://www.boxofficemojo.com/year/2000/?grossesOption=totalGrosses\"\n",
    "req = requests.get(html_test)\n",
    "data = BeautifulSoup(req.text, 'html')\n",
    "\n",
    "div = data.find('div', class_=\"a-section imdb-scroll-table-inner\")\n",
    "#print(div)\n",
    "#print(\"div printed, start printing table\")\n",
    "tbl=div.find('table')\n",
    "#print(tbl)\n",
    "result=list()\n",
    "for ele_a in tbl.find_all('a'):\n",
    "  result.append(str(ele_a.get_text()))\n",
    "\n",
    "result=result[7:]\n",
    "top_10_2000 = list()\n",
    "for i in range(0,10):\n",
    "  top_10_2000.append(result[2*i])\n",
    "#print(top_10_2000)\n",
    "\n",
    "#print(result)"
   ]
  },
  {
   "cell_type": "markdown",
   "metadata": {},
   "source": [
    "### code for getting top 10 movies in each year (2000-2023)"
   ]
  },
  {
   "cell_type": "code",
   "execution_count": 42,
   "metadata": {},
   "outputs": [],
   "source": [
    "html_part1 = \"https://www.boxofficemojo.com/year/\"\n",
    "year_list = [year for year in range(2000, 2024)]\n",
    "html_part3 = \"/?grossesOption=totalGrosses\"\n",
    "result = list()\n",
    "for ele in year_list:\n",
    "    html = html_part1 + str(ele) + html_part3\n",
    "    req = requests.get(html)\n",
    "    data = BeautifulSoup(req.text, 'html')\n",
    "\n",
    "    #find the corresponding div\n",
    "    div = data.find('div', class_=\"a-section imdb-scroll-table-inner\")\n",
    "    #print(div)\n",
    "    #print(\"div printed, start printing table\")\n",
    "\n",
    "    #find corresponding table\n",
    "    tbl=div.find('table')\n",
    "    #print(tbl)\n",
    "\n",
    "    #create a list for storing our scraped text\n",
    "    raw_result=list()\n",
    "    for ele_a in tbl.find_all('a'):\n",
    "        raw_result.append(str(ele_a.get_text()))\n",
    "\n",
    "    raw_result=raw_result[7:]\n",
    "    yearly=list()\n",
    "    yearly.append(str(ele))\n",
    "    for i in range(0,10):\n",
    "        yearly.append(raw_result[2*i])\n",
    "    result.append(yearly)\n",
    "\n",
    "df = pd.DataFrame(result)\n",
    "df.to_csv(\"annually_top_10.csv\", index=False)\n",
    "\n"
   ]
  }
 ],
 "metadata": {
  "kernelspec": {
   "display_name": "base",
   "language": "python",
   "name": "python3"
  },
  "language_info": {
   "codemirror_mode": {
    "name": "ipython",
    "version": 3
   },
   "file_extension": ".py",
   "mimetype": "text/x-python",
   "name": "python",
   "nbconvert_exporter": "python",
   "pygments_lexer": "ipython3",
   "version": "3.9.12"
  },
  "orig_nbformat": 4
 },
 "nbformat": 4,
 "nbformat_minor": 2
}
